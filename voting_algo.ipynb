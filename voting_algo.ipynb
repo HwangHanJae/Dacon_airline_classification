{
  "nbformat": 4,
  "nbformat_minor": 0,
  "metadata": {
    "colab": {
      "name": "voting_algo.ipynb",
      "provenance": [],
      "collapsed_sections": [],
      "mount_file_id": "1wiBVQiTjs1VEMV0aaA7vDeQUk1W6Z1te",
      "authorship_tag": "ABX9TyMc2qzb3aFUOA/7G2y2Vn9q",
      "include_colab_link": true
    },
    "kernelspec": {
      "name": "python3",
      "display_name": "Python 3"
    },
    "language_info": {
      "name": "python"
    }
  },
  "cells": [
    {
      "cell_type": "markdown",
      "metadata": {
        "id": "view-in-github",
        "colab_type": "text"
      },
      "source": [
        "<a href=\"https://colab.research.google.com/github/HwangHanJae/Dacon_airline_classification/blob/main/voting_algo.ipynb\" target=\"_parent\"><img src=\"https://colab.research.google.com/assets/colab-badge.svg\" alt=\"Open In Colab\"/></a>"
      ]
    },
    {
      "cell_type": "code",
      "execution_count": 1,
      "metadata": {
        "id": "W6oX9YTS62BU"
      },
      "outputs": [],
      "source": [
        "import pandas as pd\n",
        "import numpy as np\n",
        "import matplotlib.pyplot as plt\n",
        "import seaborn as sns\n",
        "import warnings\n",
        "\n",
        "plt.style.use(\"ggplot\")\n",
        "warnings.filterwarnings(\"ignore\")"
      ]
    },
    {
      "cell_type": "code",
      "source": [
        "train_path = \"/content/drive/MyDrive/Colab Notebooks/DataScience/Data/airline_dataset/train.csv\"\n",
        "test_path = \"/content/drive/MyDrive/Colab Notebooks/DataScience/Data/airline_dataset/test.csv\"\n",
        "sub_path = \"/content/drive/MyDrive/Colab Notebooks/DataScience/Data/airline_dataset/sample_submission.csv\"\n",
        "\n",
        "df = pd.read_csv(train_path)\n",
        "test = pd.read_csv(test_path)"
      ],
      "metadata": {
        "id": "pBkuuMIb6-6E"
      },
      "execution_count": 2,
      "outputs": []
    },
    {
      "cell_type": "code",
      "source": [
        "#로그화\n",
        "def log(df):\n",
        "  log_feature = [\"Age\", \"Flight Distance\"]\n",
        "  for feature in log_feature:\n",
        "    df[feature] = np.log1p(df[feature])\n",
        "  return df"
      ],
      "metadata": {
        "id": "hcHa7SXa7BjI"
      },
      "execution_count": 3,
      "outputs": []
    },
    {
      "cell_type": "code",
      "source": [
        "#라벨인코딩 함수\n",
        "from sklearn.preprocessing import LabelEncoder\n",
        "\n",
        "def labeling(df):\n",
        "    encoder = LabelEncoder()\n",
        "    columns = [\"Gender\",\"Customer Type\",\"Type of Travel\", \"Class\"]\n",
        "    for column in columns:\n",
        "      df[column] = encoder.fit_transform(df[column])\n",
        "\n",
        "    return df"
      ],
      "metadata": {
        "id": "t4yQdDXw7JUC"
      },
      "execution_count": 4,
      "outputs": []
    },
    {
      "cell_type": "code",
      "source": [
        "def get_mean(df):\n",
        "  df[\"Mean Delay in Minutes\"] = (df[\"Departure Delay in Minutes\"] + df['Arrival Delay in Minutes']) / 2\n",
        "  return df"
      ],
      "metadata": {
        "id": "krA_Hrbc7Cob"
      },
      "execution_count": 5,
      "outputs": []
    },
    {
      "cell_type": "code",
      "source": [
        "#불필요한 데이터 제거\n",
        "def drop_columns(df):\n",
        "  drop_col = [\"id\", \"Departure Delay in Minutes\",\"Arrival Delay in Minutes\",\"Food and drink\"]\n",
        "  df = df.drop(drop_col, axis=1)\n",
        "  return df"
      ],
      "metadata": {
        "id": "_fFzwykZ7Dzn"
      },
      "execution_count": 6,
      "outputs": []
    },
    {
      "cell_type": "code",
      "source": [
        "def preprocessing(df):\n",
        "  df = log(df)\n",
        "  df = labeling(df)\n",
        "  df = get_mean(df)\n",
        "  df = drop_columns(df)\n",
        "  return df"
      ],
      "metadata": {
        "id": "Z2_b7Kje7FAF"
      },
      "execution_count": 7,
      "outputs": []
    },
    {
      "cell_type": "code",
      "source": [
        "#데이터 다시 불러오기\n",
        "train = pd.read_csv(train_path)\n",
        "test = pd.read_csv(test_path)"
      ],
      "metadata": {
        "id": "KR3IZ4Xw7Gvj"
      },
      "execution_count": 8,
      "outputs": []
    },
    {
      "cell_type": "code",
      "source": [
        "train = preprocessing(train)\n",
        "test = preprocessing(test)"
      ],
      "metadata": {
        "id": "PQAZ0Lzt7LI0"
      },
      "execution_count": 9,
      "outputs": []
    },
    {
      "cell_type": "code",
      "source": [
        "#타겟데이터 분리\n",
        "X = train.drop(\"target\", axis=1)\n",
        "y = train['target']"
      ],
      "metadata": {
        "id": "a8chYqNv7Mh_"
      },
      "execution_count": 10,
      "outputs": []
    },
    {
      "cell_type": "code",
      "source": [
        "#훈련/평가 데이터 분리\n",
        "from sklearn.model_selection import train_test_split\n",
        "\n",
        "X_train, X_test, y_train, y_test = train_test_split(X, y, test_size=0.2, random_state=42)\n",
        "\n",
        "\n",
        "print(\"훈련 데이터 세트 크기 : {}\".format(X_train.shape))\n",
        "print(\"훈련 레이블 세트 크기 : {}\".format(y_train.shape))\n",
        "print(\"테스트 데이터 세트 크기 : {}\".format(X_test.shape))\n",
        "print(\"테스트 레이블 세트 크기 : {}\".format(y_test.shape))"
      ],
      "metadata": {
        "colab": {
          "base_uri": "https://localhost:8080/"
        },
        "id": "MF5SADKD7OWh",
        "outputId": "c4aeb7b7-167c-4b94-93c8-047c3155a419"
      },
      "execution_count": 13,
      "outputs": [
        {
          "output_type": "stream",
          "name": "stdout",
          "text": [
            "훈련 데이터 세트 크기 : (2400, 20)\n",
            "훈련 레이블 세트 크기 : (2400,)\n",
            "테스트 데이터 세트 크기 : (600, 20)\n",
            "테스트 레이블 세트 크기 : (600,)\n"
          ]
        }
      ]
    },
    {
      "cell_type": "code",
      "source": [
        "#훈련/평가 \n",
        "from sklearn.linear_model import LogisticRegression\n",
        "from sklearn.ensemble import RandomForestClassifier, GradientBoostingClassifier\n",
        "from xgboost import XGBClassifier\n",
        "from lightgbm import LGBMClassifier\n",
        "from sklearn.model_selection import cross_val_score\n",
        "from sklearn.metrics import accuracy_score\n",
        "\n",
        "gbm = GradientBoostingClassifier(n_estimators =1000,random_state=42)\n",
        "lr = LogisticRegression(C= 1.5, penalty= 'l2')\n",
        "rf = RandomForestClassifier(n_estimators = 1000, n_jobs= -1, random_state=42)\n",
        "xgb = XGBClassifier(n_estimators = 1000, n_jobs=-1)\n",
        "light = LGBMClassifier(n_estimators = 1000, n_jobs=-1, random_state=42)\n",
        "\n",
        "models = [gbm,lr, rf, xgb, light]\n",
        "basic_estimators = []\n",
        "for model in models:\n",
        "    basic_estimators.append((model.__class__.__name__, model))\n",
        "    print(model.__class__.__name__)\n",
        "    scores = cross_val_score(model, X, y, cv=10, scoring=\"accuracy\")\n",
        "    print(\"교차 검증별 정확도 : \", np.round(scores, 4))\n",
        "    print(\"평균 검증 정확도 : \", np.round(np.mean(scores),4))\n",
        "    print(\"\\n\")"
      ],
      "metadata": {
        "colab": {
          "base_uri": "https://localhost:8080/"
        },
        "id": "Hq4uDnfy7Q0s",
        "outputId": "2b13607f-e980-4895-bebb-4bdc1a18478b"
      },
      "execution_count": 21,
      "outputs": [
        {
          "output_type": "stream",
          "name": "stdout",
          "text": [
            "GradientBoostingClassifier\n",
            "교차 검증별 정확도 :  [0.93   0.92   0.91   0.9133 0.94   0.94   0.95   0.91   0.9433 0.9267]\n",
            "평균 검증 정확도 :  0.9283\n",
            "\n",
            "\n",
            "LogisticRegression\n",
            "교차 검증별 정확도 :  [0.8567 0.8433 0.8267 0.8067 0.85   0.8567 0.8433 0.82   0.8267 0.8467]\n",
            "평균 검증 정확도 :  0.8377\n",
            "\n",
            "\n",
            "RandomForestClassifier\n",
            "교차 검증별 정확도 :  [0.92   0.9067 0.9233 0.9067 0.9267 0.92   0.9333 0.9067 0.9233 0.94  ]\n",
            "평균 검증 정확도 :  0.9207\n",
            "\n",
            "\n",
            "XGBClassifier\n",
            "교차 검증별 정확도 :  [0.9233 0.91   0.9067 0.9233 0.9367 0.94   0.95   0.9133 0.93   0.92  ]\n",
            "평균 검증 정확도 :  0.9253\n",
            "\n",
            "\n",
            "LGBMClassifier\n",
            "교차 검증별 정확도 :  [0.9367 0.93   0.9267 0.9233 0.9367 0.9467 0.94   0.9133 0.93   0.9233]\n",
            "평균 검증 정확도 :  0.9307\n",
            "\n",
            "\n"
          ]
        }
      ]
    },
    {
      "cell_type": "markdown",
      "source": [
        "#기본 모델 보팅"
      ],
      "metadata": {
        "id": "AitarU4RCUdX"
      }
    },
    {
      "cell_type": "code",
      "source": [
        "from sklearn.ensemble import VotingClassifier\n",
        "basic_voting = VotingClassifier(estimators =basic_estimators, voting='soft',n_jobs=-1)\n",
        "basic_voting.fit(X, y)\n",
        "basic_pred = basic_voting.predict(test)"
      ],
      "metadata": {
        "id": "YY8Vrk83CUqM"
      },
      "execution_count": 22,
      "outputs": []
    },
    {
      "cell_type": "code",
      "source": [
        "submission = pd.read_csv(sub_path)\n",
        "submission[\"target\"] = basic_pred\n",
        "submission.to_csv(\"basic_voting_model.csv\", index=False)"
      ],
      "metadata": {
        "id": "qd-RwCCSD6MQ"
      },
      "execution_count": 23,
      "outputs": []
    },
    {
      "cell_type": "markdown",
      "source": [
        "#하이퍼 파라미터 튜닝"
      ],
      "metadata": {
        "id": "AeQE6_-v7e8T"
      }
    },
    {
      "cell_type": "code",
      "source": [
        "voting_models = []"
      ],
      "metadata": {
        "id": "RK8hp1Na888q"
      },
      "execution_count": 24,
      "outputs": []
    },
    {
      "cell_type": "code",
      "source": [
        "from sklearn.model_selection import GridSearchCV\n",
        "lr = LogisticRegression()\n",
        "params = {\"penalty\":['l2',\"l1\"],\n",
        "          \"C\" : [0.01,.01,1,1.5,2,3,5,10,20]}\n",
        "\n",
        "lr_grid = GridSearchCV(lr, param_grid = params, n_jobs=-1, scoring='accuracy', cv= 10)\n",
        "lr_grid.fit(X, y)\n",
        "print(\"best param : {}\".format(lr_grid.best_params_))\n",
        "print(\"best score : {}\".format(lr_grid.best_score_))\n",
        "lr_best = lr_grid.best_estimator_\n",
        "voting_models.append(lr_best)"
      ],
      "metadata": {
        "colab": {
          "base_uri": "https://localhost:8080/"
        },
        "id": "YMJ5ZhK-7Ts1",
        "outputId": "0207f0dd-ab7b-4234-e790-679b7b782e09"
      },
      "execution_count": 27,
      "outputs": [
        {
          "output_type": "stream",
          "name": "stdout",
          "text": [
            "best param : {'C': 1.5, 'penalty': 'l2'}\n",
            "best score : 0.8386666666666667\n"
          ]
        }
      ]
    },
    {
      "cell_type": "code",
      "source": [
        "rf = RandomForestClassifier(n_jobs=-1, random_state=42)\n",
        "params = {\n",
        "    \"n_estimators\" : [1000],\n",
        "    \"max_depth\" : [6, 8, 10, 12],\n",
        "    \"min_samples_leaf\" : [8, 12, 15],\n",
        "    \"min_samples_split\" : [8,12, 16]\n",
        "     \n",
        "}\n",
        "rf_grid = GridSearchCV(rf, param_grid = params, n_jobs = -1, scoring='accuracy', cv=10)\n",
        "rf_grid.fit(X,y)\n",
        "print(\"best param : {}\".format(rf_grid.best_params_))\n",
        "print(\"best score : {:.3f}\".format(rf_grid.best_score_))\n",
        "rf_best = rf_grid.best_estimator_\n",
        "voting_models.append(rf_best)"
      ],
      "metadata": {
        "colab": {
          "base_uri": "https://localhost:8080/"
        },
        "id": "ShInQD6R73ym",
        "outputId": "d3552230-a6dc-41be-9707-089a7a04e5a1"
      },
      "execution_count": 28,
      "outputs": [
        {
          "output_type": "stream",
          "name": "stdout",
          "text": [
            "best param : {'max_depth': 10, 'min_samples_leaf': 8, 'min_samples_split': 8, 'n_estimators': 1000}\n",
            "best score : 0.896\n"
          ]
        }
      ]
    },
    {
      "cell_type": "code",
      "source": [
        "xgb = XGBClassifier(n_jobs=-1)\n",
        "params = {\n",
        "    \"n_estimators\" : [1000],\n",
        "    \"max_depth\" : [3,5,7,9],\n",
        "    \"min_child_weight\" : [1,3,5,7]\n",
        "}\n",
        "xgb_grid = GridSearchCV(xgb, param_grid = params, n_jobs = -1, scoring='accuracy', cv=10)\n",
        "xgb_grid.fit(X, y)\n",
        "print(\"best param : {}\".format(xgb_grid.best_params_))\n",
        "print(\"best score : {:.3f}\".format(xgb_grid.best_score_))\n",
        "xgb_best = xgb_grid.best_estimator_\n",
        "voting_models.append(xgb_best)"
      ],
      "metadata": {
        "colab": {
          "base_uri": "https://localhost:8080/"
        },
        "id": "ZNh3b5kw8ZIP",
        "outputId": "abd8530f-965a-4a1b-b5ce-0611d54ea2ea"
      },
      "execution_count": 29,
      "outputs": [
        {
          "output_type": "stream",
          "name": "stdout",
          "text": [
            "best param : {'max_depth': 9, 'min_child_weight': 1, 'n_estimators': 1000}\n",
            "best score : 0.932\n"
          ]
        }
      ]
    },
    {
      "cell_type": "code",
      "source": [
        "light = LGBMClassifier(n_jobs=-1, random_state=42)\n",
        "params = {\n",
        "    \"n_estimators\" : [1000],\n",
        "    \"learning_rate\" : [0.05,0.1],\n",
        "    \"num_leaves\" : [16,32,64],\n",
        "    \"max_depth\" : [64,100, 128],\n",
        "    \"min_child_samples\" : [30,60, 100]\n",
        "}\n",
        "light_grid = GridSearchCV(light, param_grid = params, n_jobs = -1, scoring='accuracy', cv=10)\n",
        "light_grid.fit(X, y)\n",
        "print(\"best param : {}\".format(light_grid.best_params_))\n",
        "print(\"best score : {:.3f}\".format(light_grid.best_score_))\n",
        "light_best = light_grid.best_estimator_\n",
        "voting_models.append(light_best)"
      ],
      "metadata": {
        "colab": {
          "base_uri": "https://localhost:8080/"
        },
        "id": "XEAIoiPs-bfz",
        "outputId": "848a37cb-093b-4bb6-a110-01dbad616e6b"
      },
      "execution_count": 30,
      "outputs": [
        {
          "output_type": "stream",
          "name": "stdout",
          "text": [
            "best param : {'learning_rate': 0.1, 'max_depth': 64, 'min_child_samples': 60, 'n_estimators': 1000, 'num_leaves': 32}\n",
            "best score : 0.938\n"
          ]
        }
      ]
    },
    {
      "cell_type": "code",
      "source": [
        "gbm = GradientBoostingClassifier(random_state=42)\n",
        "params = {\n",
        "    \"n_estimators\" : [1000],\n",
        "    \"learning_rate\" : [0.05, 0.1]\n",
        "}\n",
        "gbm_grid = GridSearchCV(gbm, param_grid = params, n_jobs = -1, scoring='accuracy', cv=10)\n",
        "gbm_grid.fit(X, y)\n",
        "print(\"best param : {}\".format(gbm_grid.best_params_))\n",
        "print(\"best score : {:.3f}\".format(gbm_grid.best_score_))\n",
        "gbm_best = gbm_grid.best_estimator_\n",
        "voting_models.append(gbm_best)"
      ],
      "metadata": {
        "colab": {
          "base_uri": "https://localhost:8080/"
        },
        "id": "xiEQ8eBU_QRc",
        "outputId": "bb9c951c-cdf6-48cd-b89b-2780c6b2ccea"
      },
      "execution_count": 31,
      "outputs": [
        {
          "output_type": "stream",
          "name": "stdout",
          "text": [
            "best param : {'learning_rate': 0.05, 'n_estimators': 1000}\n",
            "best score : 0.929\n"
          ]
        }
      ]
    },
    {
      "cell_type": "markdown",
      "source": [
        "#보팅(Voting)"
      ],
      "metadata": {
        "id": "-sG4efCs_4Ka"
      }
    },
    {
      "cell_type": "code",
      "source": [
        "from sklearn.ensemble import VotingClassifier\n",
        "estimators = []\n",
        "for model in voting_models:\n",
        "  estimators.append((str(model.__class__.__name__), model))\n",
        "\n",
        "voting = VotingClassifier(estimators = estimators,voting='soft',n_jobs=-1)\n",
        "voting"
      ],
      "metadata": {
        "colab": {
          "base_uri": "https://localhost:8080/"
        },
        "id": "btz7hoid_54u",
        "outputId": "b5fcbd18-bca4-4ffd-a402-088531ea97e8"
      },
      "execution_count": 44,
      "outputs": [
        {
          "output_type": "execute_result",
          "data": {
            "text/plain": [
              "VotingClassifier(estimators=[('LogisticRegression', LogisticRegression(C=1.5)),\n",
              "                             ('RandomForestClassifier',\n",
              "                              RandomForestClassifier(max_depth=10,\n",
              "                                                     min_samples_leaf=8,\n",
              "                                                     min_samples_split=8,\n",
              "                                                     n_estimators=1000,\n",
              "                                                     n_jobs=-1,\n",
              "                                                     random_state=42)),\n",
              "                             ('XGBClassifier',\n",
              "                              XGBClassifier(max_depth=9, n_estimators=1000,\n",
              "                                            n_jobs=-1)),\n",
              "                             ('LGBMClassifier',\n",
              "                              LGBMClassifier(max_depth=64, min_child_samples=60,\n",
              "                                             n_estimators=1000, num_leaves=32,\n",
              "                                             random_state=42)),\n",
              "                             ('GradientBoostingClassifier',\n",
              "                              GradientBoostingClassifier(learning_rate=0.05,\n",
              "                                                         n_estimators=1000,\n",
              "                                                         random_state=42))],\n",
              "                 n_jobs=-1, voting='soft')"
            ]
          },
          "metadata": {},
          "execution_count": 44
        }
      ]
    },
    {
      "cell_type": "code",
      "source": [
        "from sklearn.model_selection import cross_val_score\n",
        "\n",
        "for model in voting_models:\n",
        "  print(\"#### {} ####\".format(model.__class__.__name__))\n",
        "  scores = cross_val_score(model, X, y, cv=10, scoring=\"accuracy\")\n",
        "  print(\"교차 검증별 정확도 : \", np.round(scores, 4))\n",
        "  print(\"평균 검증 정확도 : \", np.round(np.mean(scores),4))"
      ],
      "metadata": {
        "colab": {
          "base_uri": "https://localhost:8080/"
        },
        "id": "sNpunaM5BWWp",
        "outputId": "6e20051f-00a7-4453-b1e9-914a8140ea8a"
      },
      "execution_count": 45,
      "outputs": [
        {
          "output_type": "stream",
          "name": "stdout",
          "text": [
            "#### LogisticRegression ####\n",
            "교차 검증별 정확도 :  [0.8567 0.8433 0.8267 0.8067 0.85   0.8567 0.8433 0.82   0.8267 0.8467]\n",
            "평균 검증 정확도 :  0.8377\n",
            "#### RandomForestClassifier ####\n",
            "교차 검증별 정확도 :  [0.89   0.88   0.8967 0.8833 0.9    0.89   0.9033 0.8967 0.9067 0.9167]\n",
            "평균 검증 정확도 :  0.8963\n",
            "#### XGBClassifier ####\n",
            "교차 검증별 정확도 :  [0.9333 0.9233 0.92   0.93   0.94   0.9433 0.9467 0.9167 0.9367 0.93  ]\n",
            "평균 검증 정확도 :  0.932\n",
            "#### LGBMClassifier ####\n",
            "교차 검증별 정확도 :  [0.9433 0.94   0.93   0.94   0.94   0.95   0.95   0.91   0.94   0.9367]\n",
            "평균 검증 정확도 :  0.938\n",
            "#### GradientBoostingClassifier ####\n",
            "교차 검증별 정확도 :  [0.9333 0.9167 0.9233 0.9067 0.94   0.94   0.94   0.9167 0.94   0.93  ]\n",
            "평균 검증 정확도 :  0.9287\n"
          ]
        }
      ]
    },
    {
      "cell_type": "code",
      "source": [
        "voting.fit(X,y)\n",
        "pred = voting.predict(test)\n",
        "submission = pd.read_csv(sub_path)\n",
        "submission[\"target\"] = pred\n",
        "submission.to_csv(\"voting_tunning_model.csv\", index=False)\n",
        "#LB = 0.927"
      ],
      "metadata": {
        "id": "-pN-tu_bBnLy"
      },
      "execution_count": 46,
      "outputs": []
    }
  ]
}